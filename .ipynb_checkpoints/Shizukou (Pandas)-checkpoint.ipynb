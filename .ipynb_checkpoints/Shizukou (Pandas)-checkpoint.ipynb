{
 "cells": [
  {
   "cell_type": "code",
   "execution_count": 29,
   "id": "18528705",
   "metadata": {},
   "outputs": [],
   "source": [
    "import pandas as pd\n",
    "from scipy.io import loadmat, savemat"
   ]
  },
  {
   "cell_type": "code",
   "execution_count": 34,
   "id": "285a40c4",
   "metadata": {},
   "outputs": [],
   "source": [
    "labels0 = loadmat('/Users/zvele/Desktop/Visión Artificial/Proyecto_Final/wider_face_split/wider_face_train.mat')\n",
    "keys = labels0.keys()\n",
    "labels1 = {}\n",
    "for key in keys:\n",
    "    labels1[key] = []"
   ]
  },
  {
   "cell_type": "code",
   "execution_count": 35,
   "id": "fbc84dae",
   "metadata": {},
   "outputs": [
    {
     "name": "stdout",
     "output_type": "stream",
     "text": [
      "12\n",
      "dict_keys(['__header__', '__version__', '__globals__', 'blur_label_list', 'event_list', 'expression_label_list', 'face_bbx_list', 'file_list', 'illumination_label_list', 'invalid_label_list', 'occlusion_label_list', 'pose_label_list'])\n"
     ]
    }
   ],
   "source": [
    "print(len(labels0))\n",
    "print(labels0.keys())"
   ]
  },
  {
   "cell_type": "code",
   "execution_count": 38,
   "id": "4d69886e",
   "metadata": {},
   "outputs": [
    {
     "name": "stdout",
     "output_type": "stream",
     "text": [
      "['18_Concerts_Concerts_18_474']\n"
     ]
    }
   ],
   "source": [
    "#print(labels0['file_list'])\n",
    "print(labels0['file_list'][10][0][123][0])"
   ]
  },
  {
   "cell_type": "code",
   "execution_count": 40,
   "id": "cd624705",
   "metadata": {},
   "outputs": [
    {
     "name": "stdout",
     "output_type": "stream",
     "text": [
      "b'MATLAB 5.0 MAT-file, Platform: GLNXA64, Created on: Fri Mar 31 13:41:17 2017'\n",
      "76\n",
      "1.0\n",
      "3\n",
      "[]\n",
      "0\n",
      "61\n",
      "61\n",
      "61\n",
      "61\n",
      "61\n",
      "61\n",
      "61\n",
      "61\n",
      "61\n"
     ]
    }
   ],
   "source": [
    "aux=0\n",
    "for key in keys:\n",
    "    aux=aux+1\n",
    "    if(aux<=3):\n",
    "        print(labels0[key])\n",
    "    print(len(labels0[key]))"
   ]
  },
  {
   "cell_type": "code",
   "execution_count": 41,
   "id": "f28938f8",
   "metadata": {},
   "outputs": [
    {
     "name": "stdout",
     "output_type": "stream",
     "text": [
      "4635\n",
      "4635\n",
      "12880\n",
      "4635\n"
     ]
    }
   ],
   "source": [
    "aux = 0\n",
    "aux1 = 0\n",
    "tot = 0\n",
    "for image in labels0['face_bbx_list']:\n",
    "    for bbox in image[0]:\n",
    "        for bbox1 in bbox:\n",
    "            tot=tot+1\n",
    "            if (len(bbox1) == 1):\n",
    "                aux = aux+1\n",
    "labels1['file_list'] = []\n",
    "for i in range(len(labels0['face_bbx_list'])):\n",
    "    for j in range(len(labels0['face_bbx_list'][i])):\n",
    "        for k in range(len(labels0['face_bbx_list'][i][0])):\n",
    "            if (len(labels0['face_bbx_list'][i][0][k][0]) == 1):\n",
    "                aux1=aux1+1\n",
    "                aux2=0\n",
    "                for key in keys:\n",
    "                    aux2=aux2+1\n",
    "                    if (aux2>=4):\n",
    "                        labels1[key].append(labels0[key][i])\n",
    "\n",
    "print(aux)\n",
    "print(aux1)\n",
    "print(tot)\n",
    "print(len(labels1['file_list']))"
   ]
  },
  {
   "cell_type": "code",
   "execution_count": null,
   "id": "589fd0f6",
   "metadata": {},
   "outputs": [],
   "source": [
    "savemat('/Users/zvele/Desktop/Visión Artificial/Proyecto_Final/wider_face_splitv2/wider_face_train.mat', labels1)"
   ]
  },
  {
   "cell_type": "code",
   "execution_count": null,
   "id": "68163f74",
   "metadata": {},
   "outputs": [],
   "source": [
    "labels2 = loadmat('/Users/zvele/Desktop/Visión Artificial/Proyecto_Final/wider_face_splitv2/wider_face_train.mat')\n",
    "keys = labels2.keys()\n",
    "print(len(labels2['file_list']))"
   ]
  },
  {
   "cell_type": "code",
   "execution_count": null,
   "id": "eb431e67",
   "metadata": {},
   "outputs": [],
   "source": [
    "aux=0\n",
    "for key in keys:\n",
    "    aux=aux+1\n",
    "    if(aux<=3):\n",
    "        print(labels5[key])\n",
    "    print(len(labels5[key]))"
   ]
  },
  {
   "cell_type": "markdown",
   "id": "9b9ecdce",
   "metadata": {},
   "source": [
    "SO\n",
    "labels 0,1,2: wider_face_train.mat\n"
   ]
  },
  {
   "cell_type": "code",
   "execution_count": null,
   "id": "7964d8df",
   "metadata": {},
   "outputs": [],
   "source": []
  },
  {
   "cell_type": "code",
   "execution_count": null,
   "id": "0feabaf2",
   "metadata": {},
   "outputs": [],
   "source": [
    "result = \"\"\n",
    "for \n",
    "with open('/Users/zvele/Desktop/Visión Artificial/Proyecto_Final/wider_face_split/result.txt', 'a') as fp:\n",
    "    fp.write(result)"
   ]
  }
 ],
 "metadata": {
  "kernelspec": {
   "display_name": "Python 3",
   "language": "python",
   "name": "python3"
  },
  "language_info": {
   "codemirror_mode": {
    "name": "ipython",
    "version": 3
   },
   "file_extension": ".py",
   "mimetype": "text/x-python",
   "name": "python",
   "nbconvert_exporter": "python",
   "pygments_lexer": "ipython3",
   "version": "3.8.8"
  }
 },
 "nbformat": 4,
 "nbformat_minor": 5
}
